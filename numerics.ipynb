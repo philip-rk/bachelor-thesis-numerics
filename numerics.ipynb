{
 "cells": [
  {
   "cell_type": "code",
   "execution_count": 5,
   "metadata": {},
   "outputs": [],
   "source": [
    "# import modules\n",
    "\n",
    "import numpy as np\n",
    "import matplotlib as mpl\n",
    "import matplotlib.pyplot as plt\n",
    "import scipy.sparse as sp\n",
    "\n",
    "import pandas as pd\n",
    "\n",
    "from itertools import combinations, permutations, product"
   ]
  },
  {
   "cell_type": "code",
   "execution_count": 6,
   "metadata": {},
   "outputs": [],
   "source": [
    "# change settings for the graphs\n",
    "\n",
    "fsize = 7\n",
    "tsize = 9\n",
    "tdir = 'in'\n",
    "major = 5.0\n",
    "minor = 3.0\n",
    "lwidth = 0.8\n",
    "lhandle = 2.0\n",
    "plt.style.use('default')\n",
    "plt.rcParams['text.usetex'] = True\n",
    "plt.rcParams['font.size'] = fsize\n",
    "plt.rcParams['legend.fontsize'] = tsize\n",
    "plt.rcParams['xtick.direction'] = tdir\n",
    "plt.rcParams['ytick.direction'] = tdir\n",
    "plt.rcParams['xtick.major.size'] = major\n",
    "plt.rcParams['xtick.minor.size'] = minor\n",
    "plt.rcParams['ytick.major.size'] = 5.0\n",
    "plt.rcParams['ytick.minor.size'] = 3.0\n",
    "plt.rcParams['axes.linewidth'] = lwidth\n",
    "plt.rcParams['legend.handlelength'] = lhandle"
   ]
  },
  {
   "cell_type": "code",
   "execution_count": 7,
   "metadata": {},
   "outputs": [],
   "source": [
    "#functions for generating the basis states in a 2 leg ladder geometry\n",
    "\n",
    "def blockade_ladder(L):\n",
    "    if L == 1:\n",
    "        return [[0,0], [0,1], [1,0]]\n",
    "    \n",
    "    subreps = blockade_ladder(L-1)\n",
    "\n",
    "    greps = [[0,0] + r for r in subreps]\n",
    "    ureps = [[0,1] + r for r in subreps if r[1] != 1]\n",
    "    dreps = [[1,0] + r for r in subreps if r[0] != 1]\n",
    "\n",
    "    reps = greps + ureps + dreps\n",
    "\n",
    "    return reps\n",
    "\n",
    "def matrix_blockade_ladder(L):\n",
    "\n",
    "    if L == 1:\n",
    "        return [[0,0], [0,1], [1,0]]\n",
    "\n",
    "    subreps = blockade_ladder(L-1)\n",
    "\n",
    "    greps = [[0,0] + r for r in subreps]\n",
    "    ureps = [[0,1] + r for r in subreps if r[1] != 1 and r[-1] != 1]\n",
    "    dreps = [[1,0] + r for r in subreps if r[0] != 1 and r[-2] != 1]\n",
    "\n",
    "    reps = greps + ureps + dreps\n",
    "\n",
    "    #horizontal_reps = [np.hstack(np.transpose(np.reshape(i, (L,2)))) for i in vertical_reps] # type: ignore\n",
    "    matrix_reps = np.array([np.transpose(np.reshape(i, (L,2))) for i in reps]) # type: ignore\n",
    "\n",
    "    return matrix_reps\n",
    "\n",
    "def open_matrix_blockade_ladder(L):\n",
    "\n",
    "    if L == 1:\n",
    "        return [[0,0], [0,1], [1,0]]\n",
    "\n",
    "    subreps = blockade_ladder(L-1)\n",
    "\n",
    "    greps = [[0,0] + r for r in subreps]\n",
    "    ureps = [[0,1] + r for r in subreps if r[1] != 1]\n",
    "    dreps = [[1,0] + r for r in subreps if r[0] != 1]\n",
    "\n",
    "    reps = greps + ureps + dreps\n",
    "\n",
    "    #horizontal_reps = [np.hstack(np.transpose(np.reshape(i, (L,2)))) for i in vertical_reps] # type: ignore\n",
    "    matrix_reps = np.array([np.transpose(np.reshape(i, (L,2))) for i in reps]) # type: ignore\n",
    "\n",
    "    return matrix_reps\n",
    "\n",
    "def full_ladder(L):\n",
    "    if L == 1:\n",
    "        return [[0,0], [0,1], [1,0], [1,1]]\n",
    "    \n",
    "    subreps = full_ladder(L-1)\n",
    "\n",
    "    greps = [[0,0] + r for r in subreps]\n",
    "    ureps = [[0,1] + r for r in subreps]\n",
    "    dreps = [[1,0] + r for r in subreps]\n",
    "    breps = [[1,1] + r for r in subreps]\n",
    "\n",
    "    reps = greps + ureps + dreps + breps\n",
    "\n",
    "    return reps\n",
    "\n",
    "def matrix_full_ladder(L):\n",
    "    subreps = full_ladder(L)\n",
    "\n",
    "    #horizontal_reps = [np.hstack(np.transpose(np.reshape(i, (L,2)))) for i in vertical_reps] # type: ignore\n",
    "    matrix_reps = np.array([np.transpose(np.reshape(i, (L,2))) for i in subreps]) # type: ignore\n",
    "\n",
    "    return matrix_reps"
   ]
  },
  {
   "cell_type": "code",
   "execution_count": 8,
   "metadata": {},
   "outputs": [],
   "source": [
    "# functions for generating the basis states for a one dimensional chain\n",
    "\n",
    "def blockade_line(L):\n",
    "    if L == 1:\n",
    "        return [[0], [1]]\n",
    "    \n",
    "    subreps = blockade_line(L-1)\n",
    "\n",
    "    greps = [[0] + r for r in subreps]\n",
    "    ereps = [[1] + r for r in subreps if r[0] != 1]\n",
    "\n",
    "    reps = greps + ereps\n",
    "\n",
    "    return reps\n",
    "\n",
    "def matrix_blockade_line(L):\n",
    "\n",
    "    if L == 1:\n",
    "        return [[0], [1]]\n",
    "\n",
    "    subreps = blockade_line(L-1)\n",
    "\n",
    "    greps = [[0] + r for r in subreps]\n",
    "    ereps = [[1] + r for r in subreps if r[0] != 1 and r[-1] != 1]\n",
    "\n",
    "    reps = greps + ereps\n",
    "\n",
    "    matrix_reps = np.array([np.transpose(np.reshape(i, (L,1))) for i in reps]) # type: ignore\n",
    "\n",
    "    return matrix_reps\n",
    "\n",
    "def open_matrix_blockade_line(L):\n",
    "\n",
    "    if L == 1:\n",
    "        return [[0], [1]]\n",
    "\n",
    "    subreps = blockade_line(L-1)\n",
    "\n",
    "    greps = [[0] + r for r in subreps]\n",
    "    ereps = [[1] + r for r in subreps if r[0] != 1]\n",
    "\n",
    "    reps = greps + ereps\n",
    "\n",
    "    matrix_reps = np.array([np.transpose(np.reshape(i, (L,1))) for i in reps]) # type: ignore\n",
    "\n",
    "    return matrix_reps\n",
    "\n",
    "def full_line(L):\n",
    "    if L == 1:\n",
    "        return [[0], [1]]\n",
    "    \n",
    "    subreps = full_line(L-1)\n",
    "\n",
    "    greps = [[0] + r for r in subreps]\n",
    "    ereps = [[1] + r for r in subreps]\n",
    "\n",
    "    reps = greps + ereps\n",
    "\n",
    "    return reps\n",
    "\n",
    "def matrix_full_line(L):\n",
    "\n",
    "    if L == 1:\n",
    "        return [[0], [1]]\n",
    "\n",
    "    subreps = full_line(L-1)\n",
    "\n",
    "    greps = [[0] + r for r in subreps]\n",
    "    ereps = [[1] + r for r in subreps]\n",
    "\n",
    "    reps = greps + ereps\n",
    "\n",
    "    matrix_reps = np.array([np.transpose(np.reshape(i, (L,1))) for i in reps]) # type: ignore\n",
    "\n",
    "    return matrix_reps\n"
   ]
  },
  {
   "cell_type": "code",
   "execution_count": 9,
   "metadata": {},
   "outputs": [],
   "source": [
    "# functions for sorting and splitting the basis states by the number of excitations\n",
    "\n",
    "def sort(basis):\n",
    "    sorted_basis = np.array(sorted(basis, key = lambda x: np.sum(x)))\n",
    "    n_e_max = np.flip(basis)[0].sum()\n",
    "    n_e, bin_edges = np.histogram([(x.sum(axis=0)).sum(axis=0) for x in sorted_basis], bins=n_e_max+1)\n",
    "    edges = np.cumsum(n_e)#[:-1]\n",
    "    return sorted_basis, edges\n",
    "\n",
    "def split(sorted_basis, edges):\n",
    "    split_basis = np.split(sorted_basis, edges)\n",
    "    return split_basis"
   ]
  },
  {
   "cell_type": "markdown",
   "metadata": {},
   "source": [
    "$$\n",
    "H_n=\\sum_i \\hat{n}_i\n",
    "$$"
   ]
  },
  {
   "cell_type": "code",
   "execution_count": 10,
   "metadata": {},
   "outputs": [],
   "source": [
    "def detuning_hamiltonian(basis):\n",
    "\n",
    "    sorted_basis, edges = sort(basis)\n",
    "    dim = len(sorted_basis)\n",
    "\n",
    "    diag = [np.sum(i) for i in sorted_basis] # 2L sites in 2 leg ladder\n",
    "\n",
    "    mat = sp.dia_array((diag,0), shape=(dim, dim))\n",
    "\n",
    "    return mat"
   ]
  },
  {
   "cell_type": "markdown",
   "metadata": {},
   "source": [
    "$$ H_\\Delta = \\sum_i (-1)^i \\sigma_i^z"
   ]
  },
  {
   "cell_type": "code",
   "execution_count": 11,
   "metadata": {},
   "outputs": [],
   "source": [
    "def staggered_detuning_hamiltonian(basis):\n",
    "\n",
    "    sorted_basis, edges = sort(basis)\n",
    "    dim = len(sorted_basis)\n",
    "\n",
    "    diag0 = np.array([2*np.sum(i[0][::2]) - len(i[0][::2]) - (2*np.sum(i[0][1::2]) - len(i[0][1::2])) for i in sorted_basis]) # even - odd\n",
    "    if len(sorted_basis[0]) == 2:\n",
    "        diag1 = np.array([2*np.sum(i[1][::2]) - len(i[1][::2]) - (2*np.sum(i[1][1::2]) - len(i[1][1::2])) for i in sorted_basis]) # even - odd\n",
    "    else:\n",
    "        diag1 = np.zeros(dim)\n",
    "    mat = sp.dia_array((diag0 + diag1,0), shape=(dim, dim))\n",
    "\n",
    "    return mat"
   ]
  },
  {
   "cell_type": "markdown",
   "metadata": {},
   "source": [
    "$$ H_\\Omega = \\sum_i \\sigma_i^x"
   ]
  },
  {
   "cell_type": "code",
   "execution_count": 12,
   "metadata": {},
   "outputs": [],
   "source": [
    "def rabi_hamiltonian(basis):\n",
    "\n",
    "    sorted_basis, edges = sort(basis)\n",
    "    split_basis = split(sorted_basis, edges)\n",
    "\n",
    "    edges = np.append(0, edges[:-1])\n",
    "    dim = len(sorted_basis)\n",
    "    L = len(sorted_basis[0][0])\n",
    "    legs = len(sorted_basis[0])\n",
    "\n",
    "    empty = sp.coo_array((dim, dim))\n",
    "    r_mat = np.full((legs, L), empty)\n",
    "\n",
    "    for count, set in enumerate(split_basis):\n",
    "        for x, state in enumerate(set):\n",
    "            compare = state == split_basis[count+1]\n",
    "            matches = np.sum(np.sum(compare, axis=1), axis=1)\n",
    "            couplings = np.where(matches == legs*L-1)[0]\n",
    "\n",
    "            for y in couplings:\n",
    "                error = np.where(compare[y] == 0)\n",
    "                r_mat[error[0][0], error[1][0]] += sp.coo_array(([1], ([edges[count] + x], [edges[count + 1] + y])), shape=(dim,dim))\n",
    "                r_mat[error[0][0], error[1][0]] += sp.coo_array(([1], ([edges[count + 1] + y], [edges[count] + x])), shape=(dim,dim))\n",
    "\n",
    "    mat = np.sum(r_mat)\n",
    "\n",
    "    return mat, r_mat"
   ]
  },
  {
   "cell_type": "markdown",
   "metadata": {},
   "source": [
    "$$H_t = \\sum_{\\langle ij\\rangle} \\left( b_i^\\dagger b_j + \\text{h.c.}\\right)"
   ]
  },
  {
   "cell_type": "code",
   "execution_count": 13,
   "metadata": {},
   "outputs": [],
   "source": [
    "def hopping_hamiltonian(basis, bc):\n",
    "\n",
    "    sorted_basis, edges = sort(basis)\n",
    "    split_basis = split(sorted_basis, edges)\n",
    "\n",
    "    edges = np.append(0, edges[:-1])\n",
    "    dim = len(sorted_basis)\n",
    "    L = len(sorted_basis[0][0])\n",
    "    \n",
    "    if bc == 'PBC':\n",
    "        l = len(sorted_basis[0][0])\n",
    "    elif bc == 'OBC':\n",
    "        l = 0\n",
    "\n",
    "    legs = len(sorted_basis[0])\n",
    "\n",
    "    empty = sp.coo_array((dim, dim))\n",
    "\n",
    "    h_mat = np.full((legs,L), empty)\n",
    "    v_mat = np.full((legs,L), empty)\n",
    "    d_mat = np.full((legs,L), empty)\n",
    "\n",
    "    for count, set in enumerate(split_basis):\n",
    "        for x, state in enumerate(set):\n",
    "            compare = state == set\n",
    "            matches = np.sum(np.sum(compare, axis=1), axis=1)\n",
    "            possible_couplings = np.where(matches == legs*L-2)[0]\n",
    "            #print(compare)\n",
    "            couplings = []\n",
    "\n",
    "            for y in possible_couplings:\n",
    "                errors = np.where(compare[y] == 0)\n",
    "                diff = np.diff(errors)\n",
    "                if np.all(diff == [[0],[1]]) or np.all(diff == [[0],[-(l-1)]]): # Horizontal\n",
    "                    h_mat[errors[0][0]][errors[1][0]] += sp.coo_array(([1], ([edges[count] + x], [edges[count] + y])), shape=(dim,dim))\n",
    "\n",
    "                elif np.all(diff == [[0],[0]]) or np.all(diff == [[0],[l-1]]): # Horizontal\n",
    "                    h_mat[errors[0][1]][errors[1][1]] += sp.coo_array(([1], ([edges[count] + x], [edges[count] + y])), shape=(dim,dim))\n",
    "\n",
    "                elif np.all(diff == [[1],[0]]): # Vertical\n",
    "                    v_mat[errors[0][0]][errors[1][0]] += sp.coo_array(([1], ([edges[count] + x], [edges[count] + y])), shape=(dim,dim))\n",
    "\n",
    "                elif np.all(diff == [[-1],[0]]): # Vertical\n",
    "                    v_mat[errors[0][1]][errors[1][1]] += sp.coo_array(([1], ([edges[count] + x], [edges[count] + y])), shape=(dim,dim))\n",
    "\n",
    "                elif np.all(diff == [[1],[-1]]) or np.all(diff == [[-1],[-1]]) or np.all(diff == [[1],[(l-1)]]) or np.all(diff == [[-1],[(l-1)]]): # Diagonal\n",
    "                    d_mat[errors[0][1]][errors[1][1]] += sp.coo_array(([1/(2**1.5)], ([edges[count] + x], [edges[count] + y])), shape=(dim,dim))\n",
    "\n",
    "                elif np.all(diff == [[1],[1]]) or np.all(diff == [[-1],[1]]) or np.all(diff == [[1],[-(l-1)]]) or np.all(diff == [[-1],[-(l-1)]]): # Diagonal\n",
    "                    d_mat[errors[0][0]][errors[1][0]] += sp.coo_array(([1/(2**1.5)], ([edges[count] + x], [edges[count] + y])), shape=(dim,dim))\n",
    "\n",
    "    mat = np.sum(h_mat) + np.sum(v_mat) + np.sum(d_mat)\n",
    "\n",
    "    return mat, h_mat, v_mat, d_mat"
   ]
  },
  {
   "cell_type": "code",
   "execution_count": 14,
   "metadata": {},
   "outputs": [],
   "source": [
    "def interaction_strength(state, L, bc):\n",
    "    potential = []\n",
    "\n",
    "    for combo in combinations(np.transpose(np.where(state)), 2):  # 2 for pairs, 3 for triplets, etc\n",
    "        diff = np.linalg.norm(np.diff(np.reshape(combo, (2,2)).T))\n",
    "        # if diff == 1 or (diff == L-1 and bc=='PBC'):\n",
    "        #     potential.append(1)\n",
    "        potential.append(1/diff**6)\n",
    "\n",
    "    return np.sum(potential)\n",
    "\n",
    "def interaction_hamiltonian(basis, bc):\n",
    "\n",
    "    sorted_basis, edges = sort(basis)\n",
    "\n",
    "    L = len(sorted_basis[0][0])\n",
    "\n",
    "    dim = len(sorted_basis)\n",
    "\n",
    "    diag = []\n",
    "\n",
    "    for i in sorted_basis:\n",
    "        diag.append(interaction_strength(i, L, bc))\n",
    "\n",
    "    mat = sp.dia_array((diag,0), shape=(dim, dim))\n",
    "\n",
    "    return mat"
   ]
  },
  {
   "cell_type": "code",
   "execution_count": 15,
   "metadata": {},
   "outputs": [],
   "source": [
    "# calculates the matrices, possibly degenerate, ground state.\n",
    "# very inefficient for highly degenerate states\n",
    "\n",
    "def groundstate(mat):\n",
    "\n",
    "    num_states = 1\n",
    "    E, GS = sp.linalg.eigsh(mat.mat, k=num_states, which='SA')\n",
    "\n",
    "    while num_states < len(mat.basis) - 1:\n",
    "\n",
    "        num_states += 1\n",
    "\n",
    "        new_E, new_GS = sp.linalg.eigsh(mat.mat, k=num_states, which='SA')\n",
    "\n",
    "        gaps = np.diff(new_E)\n",
    "        max_gap = np.max(gaps)\n",
    "\n",
    "        if max_gap > 1e-10:\n",
    "            break\n",
    "\n",
    "        # limit maximum gap\n",
    "\n",
    "        E = new_E\n",
    "        GS = new_GS\n",
    "\n",
    "    return np.round(E, 10), np.sum(GS, axis=1)/np.sqrt(num_states - 1), num_states - 1\n"
   ]
  },
  {
   "cell_type": "code",
   "execution_count": 16,
   "metadata": {},
   "outputs": [],
   "source": [
    "# defines the van neumann entropy of a given ground state\n",
    "\n",
    "def S_vn(GS,N,N_l,N_r):\n",
    "    plt.rc('text', usetex=True)\n",
    "    plt.rc('font', family='serif')\n",
    "    plt.rcParams['font.size'] = '16'\n",
    "    GS = GS.reshape((2 ** N, 1))\n",
    "\n",
    "    n1, n2, n = 2 ** N_l, 2 ** N_r, 2 ** N\n",
    "    rho = GS @ np.conj(GS.T)\n",
    "    rho = rho / np.trace(rho)\n",
    "    rho_tensor = rho.reshape([n1, n2, n1, n2])\n",
    "    # np.trace(rho_tensor, axis1=1, axis2=3)  # rho_a\n",
    "    rho_a = np.trace(rho_tensor, axis1=0, axis2=2)\n",
    "    # print(rho_a.shape)\n",
    "    pn = np.real(np.linalg.eigvalsh(rho_a))\n",
    "    n = pn > 0\n",
    "    if len(n) > 0:\n",
    "        # print(\"IF\")\n",
    "        S = -np.sum(pn[n] * np.log(pn[n]))\n",
    "    else:\n",
    "        # print(\"Else\")\n",
    "        S = 0.0  # p log p = 0 if p = 0\n",
    "\n",
    "    if S == 0:\n",
    "        S = abs(S)\n",
    "\n",
    "    return np.round(S,4)"
   ]
  },
  {
   "cell_type": "code",
   "execution_count": 17,
   "metadata": {},
   "outputs": [],
   "source": [
    "class lattice:\n",
    "    def __init__(self, sites, bc='OBC', legs=1, constraint=True) -> None:\n",
    "        self.sites = sites\n",
    "\n",
    "        if legs == 1:\n",
    "            if constraint == True:\n",
    "                if bc == 'PBC':\n",
    "                    self.basis = sort(matrix_blockade_line(self.sites))[0]\n",
    "                elif bc == 'OBC':\n",
    "                    self.basis = sort(open_matrix_blockade_line(self.sites))[0]\n",
    "            else:\n",
    "                self.basis = sort(matrix_full_line(self.sites))[0]\n",
    "            \n",
    "        elif legs == 2:\n",
    "            if constraint == True:\n",
    "                if bc == 'PBC':\n",
    "                    self.basis = sort(matrix_blockade_ladder(self.sites))[0]\n",
    "                elif bc == 'OBC':\n",
    "                    self.basis = sort(open_matrix_blockade_ladder(self.sites))[0]\n",
    "            else:\n",
    "                self.basis = sort(matrix_full_ladder(self.sites))[0]\n",
    "\n",
    "        self.det = detuning_hamiltonian(self.basis)\n",
    "        self.stag = staggered_detuning_hamiltonian(self.basis)\n",
    "        self.rabi, self.r_rabi = rabi_hamiltonian(self.basis)\n",
    "        self.hop, self.h_hop, self.v_hop, self.d_hop = hopping_hamiltonian(self.basis, bc)\n",
    "        self.int = interaction_hamiltonian(self.basis, bc)\n",
    "    \n",
    "class matrix(lattice):\n",
    "    def __init__(self, lattice, det=0.0, stag=0.0, rabi=0.0, hop=0.0, int=0.0) -> None:\n",
    "        self.sites = lattice.sites\n",
    "        self.basis = lattice.basis\n",
    "\n",
    "        self.det, self.stag, self.rabi, self.hop, self.int = det, stag, rabi, hop, int\n",
    "\n",
    "        self.mat = det * lattice.det + stag * lattice.stag + rabi * lattice.rabi + hop * lattice.hop + int * lattice.int\n",
    "        self.energy, self.gs, self.degen = groundstate(self)\n",
    "        #self.dist = np.dot(self.cont.transpose(), np.reshape(self.basis, (len(self.basis), 2*self.sites))).transpose()\n",
    "        #self.dens = np.sum(self.dist) / (2 * self.sites)\n",
    "    # def gs(self):\n",
    "    #     return np.vectorize(GS(self))\n"
   ]
  },
  {
   "cell_type": "code",
   "execution_count": 18,
   "metadata": {},
   "outputs": [
    {
     "data": {
      "text/plain": [
       "\"\\nlat = lattice(15)\\n\\nfig, ax = plt.subplots(ncols=2, figsize=(7,3), dpi=200)\\n\\nedges = sort(lat.basis)[1]\\n\\nax[0].spy(lat.rabi, markersize=.0001)\\nax[0].set_title('Rabi Term', size=11)\\n\\nax[1].spy(lat.hop, markersize=.0001)\\nax[1].set_title('Hopping Term', size=11)\\n\\nfor i in range(2):\\n    ax[i].hlines(edges, 0, np.shape(lat.rabi)[0], linewidth=.7, color='tab:gray')\\n    ax[i].vlines(edges, 0, np.shape(lat.rabi)[0], linewidth=.7, color='tab:gray')\\n    ax[i].set_xlabel(r'$j$', size=9)\\n    ax[i].set_ylabel(r'$i$', size=9)\\n    ax[i].tick_params(top=False, labeltop=False, labelbottom=True)\\n\""
      ]
     },
     "execution_count": 18,
     "metadata": {},
     "output_type": "execute_result"
    }
   ],
   "source": [
    "'''\n",
    "lat = lattice(15)\n",
    "\n",
    "fig, ax = plt.subplots(ncols=2, figsize=(7,3), dpi=200)\n",
    "\n",
    "edges = sort(lat.basis)[1]\n",
    "\n",
    "ax[0].spy(lat.rabi, markersize=.0001)\n",
    "ax[0].set_title('Rabi Term', size=11)\n",
    "\n",
    "ax[1].spy(lat.hop, markersize=.0001)\n",
    "ax[1].set_title('Hopping Term', size=11)\n",
    "\n",
    "for i in range(2):\n",
    "    ax[i].hlines(edges, 0, np.shape(lat.rabi)[0], linewidth=.7, color='tab:gray')\n",
    "    ax[i].vlines(edges, 0, np.shape(lat.rabi)[0], linewidth=.7, color='tab:gray')\n",
    "    ax[i].set_xlabel(r'$j$', size=9)\n",
    "    ax[i].set_ylabel(r'$i$', size=9)\n",
    "    ax[i].tick_params(top=False, labeltop=False, labelbottom=True)\n",
    "'''"
   ]
  },
  {
   "cell_type": "code",
   "execution_count": 19,
   "metadata": {},
   "outputs": [
    {
     "data": {
      "text/plain": [
       "'\\n\\ndef ansatzmatch(L):\\n    lat = lattice(L, legs=1, bc=\\'OBC\\', constraint=True)\\n    mat = matrix(lat, rabi=2, hop=1)\\n    \\n    A = np.array([1, 0])\\n    B = np.array([1, -1]) / np.sqrt(2)\\n    \\n    s = np.kron(np.kron(np.kron(A, B), A), B)\\n    \\n    def ansatz1(L):\\n        if L == 1:\\n            return A\\n        ansatz = ansatz2(L-1)\\n        return np.kron(A, ansatz)\\n    \\n    def ansatz2(L):\\n        if L == 1:\\n            return B\\n        ansatz = ansatz1(L-1)\\n        return np.kron(B, ansatz)\\n    \\n    restricted = np.array([int(\\'\\'.join(map(str, lat.basis[i][0])), 2) for i in range(len(lat.basis))])\\n    \\n    #Ansatz1 = ansatz1(L)[restricted]\\n    Ansatz2 = ansatz2(L)[restricted]\\n\\n    return np.abs(Ansatz2.T @ mat.gs)**2, np.abs(Ansatz2.T @ mat.gs)**2 - 1\\n\\n#binary = np.array([[int(bit) for bit in f\"{i:0{L}b}\"] for i in range(len(s))])\\n\\n#for i in range(len(s)):\\n#    print(s[i], \\':\\', [int(bit) for bit in f\"{i:0{L}b}\"])\\n'"
      ]
     },
     "execution_count": 19,
     "metadata": {},
     "output_type": "execute_result"
    }
   ],
   "source": [
    "# returns the overlap of a specific matrices ground state with the implemented ansatz\n",
    "\n",
    "'''\n",
    "\n",
    "def ansatzmatch(L):\n",
    "    lat = lattice(L, legs=1, bc='OBC', constraint=True)\n",
    "    mat = matrix(lat, rabi=2, hop=1)\n",
    "    \n",
    "    A = np.array([1, 0])\n",
    "    B = np.array([1, -1]) / np.sqrt(2)\n",
    "    \n",
    "    s = np.kron(np.kron(np.kron(A, B), A), B)\n",
    "    \n",
    "    def ansatz1(L):\n",
    "        if L == 1:\n",
    "            return A\n",
    "        ansatz = ansatz2(L-1)\n",
    "        return np.kron(A, ansatz)\n",
    "    \n",
    "    def ansatz2(L):\n",
    "        if L == 1:\n",
    "            return B\n",
    "        ansatz = ansatz1(L-1)\n",
    "        return np.kron(B, ansatz)\n",
    "    \n",
    "    restricted = np.array([int(''.join(map(str, lat.basis[i][0])), 2) for i in range(len(lat.basis))])\n",
    "    \n",
    "    #Ansatz1 = ansatz1(L)[restricted]\n",
    "    Ansatz2 = ansatz2(L)[restricted]\n",
    "\n",
    "    return np.abs(Ansatz2.T @ mat.gs)**2, np.abs(Ansatz2.T @ mat.gs)**2 - 1\n",
    "\n",
    "#binary = np.array([[int(bit) for bit in f\"{i:0{L}b}\"] for i in range(len(s))])\n",
    "\n",
    "#for i in range(len(s)):\n",
    "#    print(s[i], ':', [int(bit) for bit in f\"{i:0{L}b}\"])\n",
    "'''"
   ]
  },
  {
   "cell_type": "code",
   "execution_count": 20,
   "metadata": {},
   "outputs": [
    {
     "data": {
      "text/plain": [
       "\"\\nfig, ax = plt.subplots(nrows=3, ncols=2, sharex='col', sharey='all', dpi=150)\\n\\nN1 = 15\\nN2 = 16\\n\\nlat = [lattice(N1, legs=1, bc='OBC'), lattice(N2, legs=1, bc='OBC')]\\nrabi = [1, 2, 0]\\nhop = [0, 1, 1]\\n\\nfor i in range(2):\\n    for j in range(3):\\n        mat = matrix(lattice=lat[i], rabi=rabi[j], hop=hop[j])\\n        density = [np.sum([mat.gs[k]**2 * mat.basis[k][0,x] for k in range(len(mat.basis))]) for x in range(mat.sites)]\\n        ax[j,i].plot(density)\\n        ax[j,i].scatter(range(len(density)), density, s=7)\\n\\nax[0,0].set_title(f'N = {N1}', size=12)\\nax[0,1].set_title(f'N = {N2}', size=12)\\n\\nax[0,0].set_ylabel(r'$\\\\Omega \\\\gg t$', size=12)\\nax[1,0].set_ylabel(r'$4\\\\Omega = t$', size=12)\\nax[2,0].set_ylabel(r'$\\\\Omega \\\\ll t$', size=12)\\nax[1,0].set_ylim(-0.05, .55)\\n\\nax[2,0].set_xlabel('Site index', size=9)\\nax[2,1].set_xlabel('Site index', size=9)\\n\\nax[1,0].set_yticks([0,0.1,0.2,0.3,0.4,0.5], labels=[0,0.1,0.2,0.3,0.4,0.5])\\n\\n#fig.suptitle('Test')\\nfig.supylabel('Excitation density', size=9)\\n\""
      ]
     },
     "execution_count": 20,
     "metadata": {},
     "output_type": "execute_result"
    }
   ],
   "source": [
    "# returns the excitation densities for different particle numbers and three combinations of omega and t\n",
    "\n",
    "'''\n",
    "fig, ax = plt.subplots(nrows=3, ncols=2, sharex='col', sharey='all', dpi=150)\n",
    "\n",
    "N1 = 15\n",
    "N2 = 16\n",
    "\n",
    "lat = [lattice(N1, legs=1, bc='OBC'), lattice(N2, legs=1, bc='OBC')]\n",
    "rabi = [1, 2, 0]\n",
    "hop = [0, 1, 1]\n",
    "\n",
    "for i in range(2):\n",
    "    for j in range(3):\n",
    "        mat = matrix(lattice=lat[i], rabi=rabi[j], hop=hop[j])\n",
    "        density = [np.sum([mat.gs[k]**2 * mat.basis[k][0,x] for k in range(len(mat.basis))]) for x in range(mat.sites)]\n",
    "        ax[j,i].plot(density)\n",
    "        ax[j,i].scatter(range(len(density)), density, s=7)\n",
    "\n",
    "ax[0,0].set_title(f'N = {N1}', size=12)\n",
    "ax[0,1].set_title(f'N = {N2}', size=12)\n",
    "\n",
    "ax[0,0].set_ylabel(r'$\\Omega \\gg t$', size=12)\n",
    "ax[1,0].set_ylabel(r'$4\\Omega = t$', size=12)\n",
    "ax[2,0].set_ylabel(r'$\\Omega \\ll t$', size=12)\n",
    "ax[1,0].set_ylim(-0.05, .55)\n",
    "\n",
    "ax[2,0].set_xlabel('Site index', size=9)\n",
    "ax[2,1].set_xlabel('Site index', size=9)\n",
    "\n",
    "ax[1,0].set_yticks([0,0.1,0.2,0.3,0.4,0.5], labels=[0,0.1,0.2,0.3,0.4,0.5])\n",
    "\n",
    "#fig.suptitle('Test')\n",
    "fig.supylabel('Excitation density', size=9)\n",
    "'''"
   ]
  },
  {
   "cell_type": "code",
   "execution_count": 21,
   "metadata": {},
   "outputs": [
    {
     "data": {
      "text/plain": [
       "\"\\nL = 21\\n\\nlat = lattice(L, legs=1, bc='OBC', constraint=True)\\n\\nfig, ax = plt.subplots(nrows=1, ncols=3, dpi=200, figsize=(10, 2))\\n\\nrabi = [1, 2, 0]\\nhop = [0, 1, 1]\\n\\nfor j in range(3):\\n    mat = matrix(lattice=lat, rabi=rabi[j], hop=hop[j], int=0)\\n    density = [np.sum([mat.gs[k]**2 * mat.basis[k][0,x] for k in range(len(mat.basis))]) for x in range(mat.sites)]\\n    ax[j].plot(density)\\n    ax[j].scatter(range(len(density)), density, s=7)\\n\\nax[0].set_title(r'$\\\\Omega \\\\gg t$', size=12)\\nax[1].set_title(r'$\\\\Omega = 4t$', size=12)\\nax[2].set_title(r'$\\\\Omega \\\\ll t$', size=12)\\nax[0].set_ylim(-0.05, .55)\\nax[1].set_ylim(-0.05, .55)\\nax[2].set_ylim(-0.05, .55)\\n\\nax[0].set_xlabel('Site index', size=9)\\nax[1].set_xlabel('Site index', size=9)\\nax[2].set_xlabel('Site index', size=9)\\n\\nax[0].set_yticks([0,0.1,0.2,0.3,0.4,0.5], labels=[0,0.1,0.2,0.3,0.4,0.5])\\nax[0].set_xticks(np.arange(0, L, int(np.round(L/5))), labels=np.arange(0, L, int(np.round(L/5))))\\nax[1].set_xticks(np.arange(0, L, int(np.round(L/5))), labels=np.arange(0, L, int(np.round(L/5))))\\nax[2].set_xticks(np.arange(0, L, int(np.round(L/5))), labels=np.arange(0, L, int(np.round(L/5))))\\n\\n# fig.suptitle('Test')\\nax[0].set_ylabel('Excitation density', size=9)\\n\""
      ]
     },
     "execution_count": 21,
     "metadata": {},
     "output_type": "execute_result"
    }
   ],
   "source": [
    "# same as above, but for only one number particles\n",
    "\n",
    "'''\n",
    "L = 21\n",
    "\n",
    "lat = lattice(L, legs=1, bc='OBC', constraint=True)\n",
    "\n",
    "fig, ax = plt.subplots(nrows=1, ncols=3, dpi=200, figsize=(10, 2))\n",
    "\n",
    "rabi = [1, 2, 0]\n",
    "hop = [0, 1, 1]\n",
    "\n",
    "for j in range(3):\n",
    "    mat = matrix(lattice=lat, rabi=rabi[j], hop=hop[j], int=0)\n",
    "    density = [np.sum([mat.gs[k]**2 * mat.basis[k][0,x] for k in range(len(mat.basis))]) for x in range(mat.sites)]\n",
    "    ax[j].plot(density)\n",
    "    ax[j].scatter(range(len(density)), density, s=7)\n",
    "\n",
    "ax[0].set_title(r'$\\Omega \\gg t$', size=12)\n",
    "ax[1].set_title(r'$\\Omega = 4t$', size=12)\n",
    "ax[2].set_title(r'$\\Omega \\ll t$', size=12)\n",
    "ax[0].set_ylim(-0.05, .55)\n",
    "ax[1].set_ylim(-0.05, .55)\n",
    "ax[2].set_ylim(-0.05, .55)\n",
    "\n",
    "ax[0].set_xlabel('Site index', size=9)\n",
    "ax[1].set_xlabel('Site index', size=9)\n",
    "ax[2].set_xlabel('Site index', size=9)\n",
    "\n",
    "ax[0].set_yticks([0,0.1,0.2,0.3,0.4,0.5], labels=[0,0.1,0.2,0.3,0.4,0.5])\n",
    "ax[0].set_xticks(np.arange(0, L, int(np.round(L/5))), labels=np.arange(0, L, int(np.round(L/5))))\n",
    "ax[1].set_xticks(np.arange(0, L, int(np.round(L/5))), labels=np.arange(0, L, int(np.round(L/5))))\n",
    "ax[2].set_xticks(np.arange(0, L, int(np.round(L/5))), labels=np.arange(0, L, int(np.round(L/5))))\n",
    "\n",
    "# fig.suptitle('Test')\n",
    "ax[0].set_ylabel('Excitation density', size=9)\n",
    "'''"
   ]
  },
  {
   "cell_type": "code",
   "execution_count": 22,
   "metadata": {},
   "outputs": [
    {
     "data": {
      "text/plain": [
       "\"\\nL = 13\\n\\nlat = lattice(L, legs=1, bc='OBC', constraint=False)\\n\\nX, Y = np.meshgrid(\\n    np.linspace(1,5,40),\\n    np.linspace(1,5,40) # y_max = 4 ?\\n)\\n\\nprint(X.shape)\\n\\nZ = np.zeros_like(X)\\nfor x in range(X.shape[0]):\\n    print(x)\\n    for y in range(Y.shape[1]):\\n        print(y)\\n        try:\\n            # print(X[0,x], Y[y,0])\\n            mat = matrix(lat, det=-X[0,x], rabi=.5, int=Y[y,0]**6)\\n            # z = np.sum(mat.basis[:,0,:].T * mat.gs**2)\\n            z = S_vn(mat.gs, L,L//2+L%2,L//2)\\n        except:\\n            pass\\n        else:\\n            Z[x,y] = z\\n\""
      ]
     },
     "execution_count": 22,
     "metadata": {},
     "output_type": "execute_result"
    }
   ],
   "source": [
    "# generates the phase diagram for varying detuning and interaction strength\n",
    "\n",
    "'''\n",
    "L = 13\n",
    "\n",
    "lat = lattice(L, legs=1, bc='OBC', constraint=False)\n",
    "\n",
    "X, Y = np.meshgrid(\n",
    "    np.linspace(1,5,40),\n",
    "    np.linspace(1,5,40) # y_max = 4 ?\n",
    ")\n",
    "\n",
    "print(X.shape)\n",
    "\n",
    "Z = np.zeros_like(X)\n",
    "for x in range(X.shape[0]):\n",
    "    print(x)\n",
    "    for y in range(Y.shape[1]):\n",
    "        print(y)\n",
    "        try:\n",
    "            # print(X[0,x], Y[y,0])\n",
    "            mat = matrix(lat, det=-X[0,x], rabi=.5, int=Y[y,0]**6)\n",
    "            # z = np.sum(mat.basis[:,0,:].T * mat.gs**2)\n",
    "            z = S_vn(mat.gs, L,L//2+L%2,L//2)\n",
    "        except:\n",
    "            pass\n",
    "        else:\n",
    "            Z[x,y] = z\n",
    "'''\n",
    "\n",
    "#np.save('phase55.npy', Z)"
   ]
  },
  {
   "cell_type": "code",
   "execution_count": 23,
   "metadata": {},
   "outputs": [
    {
     "data": {
      "text/plain": [
       "'\\nX, Y = np.meshgrid(\\n    np.linspace(1,5,40),\\n    np.linspace(1,5,40) # y_max = 4 ?\\n)\\n\\nphase = np.load(\"phase55.npy\")\\n\\nfig, ax = plt.subplots(figsize=(8,5), dpi=200)\\n\\nc = ax.pcolormesh(X, Y, phase.T, cmap=\\'inferno\\')\\nax.set_xlabel(r\\'$\\x0crac{\\\\Delta}{\\\\Omega}$\\', size=15)\\nax.set_ylabel(r\\'$\\x0crac{R_b}{a}$\\', size=15)\\n\\nax.scatter([4, 4, 4],[1.5, 2.5, 3.5], c=\\'white\\', s=1)\\n# ax.text(3+.05, 0.5-.1, r\\'$Z_1$\\', c=\\'white\\', size=13)\\nax.text(4+.05, 1.5-.07, r\\'$Z_2$\\', c=\\'white\\', size=15)\\nax.text(4+.05, 2.5-.07, r\\'$Z_3$\\', c=\\'white\\', size=15)\\nax.text(4+.05, 3.5-.07, r\\'$Z_4$\\', c=\\'white\\', size=15)\\n\\nax.tick_params(labelsize=11)\\n\\ncb = fig.colorbar(c, ax=ax)\\ncb.ax.tick_params(labelsize=11)\\ncb.set_label(r\\'$S_{vN}$\\', size=13)\\n'"
      ]
     },
     "execution_count": 23,
     "metadata": {},
     "output_type": "execute_result"
    }
   ],
   "source": [
    "# displays said phase diagram with additional labels\n",
    "\n",
    "'''\n",
    "X, Y = np.meshgrid(\n",
    "    np.linspace(1,5,40),\n",
    "    np.linspace(1,5,40) # y_max = 4 ?\n",
    ")\n",
    "\n",
    "phase = np.load(\"phase55.npy\")\n",
    "\n",
    "fig, ax = plt.subplots(figsize=(8,5), dpi=200)\n",
    "\n",
    "c = ax.pcolormesh(X, Y, phase.T, cmap='inferno')\n",
    "ax.set_xlabel(r'$\\frac{\\Delta}{\\Omega}$', size=15)\n",
    "ax.set_ylabel(r'$\\frac{R_b}{a}$', size=15)\n",
    "\n",
    "ax.scatter([4, 4, 4],[1.5, 2.5, 3.5], c='white', s=1)\n",
    "# ax.text(3+.05, 0.5-.1, r'$Z_1$', c='white', size=13)\n",
    "ax.text(4+.05, 1.5-.07, r'$Z_2$', c='white', size=15)\n",
    "ax.text(4+.05, 2.5-.07, r'$Z_3$', c='white', size=15)\n",
    "ax.text(4+.05, 3.5-.07, r'$Z_4$', c='white', size=15)\n",
    "\n",
    "ax.tick_params(labelsize=11)\n",
    "\n",
    "cb = fig.colorbar(c, ax=ax)\n",
    "cb.ax.tick_params(labelsize=11)\n",
    "cb.set_label(r'$S_{vN}$', size=13)\n",
    "'''"
   ]
  },
  {
   "cell_type": "code",
   "execution_count": 24,
   "metadata": {},
   "outputs": [
    {
     "data": {
      "text/plain": [
       "\"\\nL=13\\nlat = lattice(L, legs=1, bc='OBC', constraint=False)\\nmat = []\\n\\nint = [1.5,2.5,3.5,4.5]\\n\\nfor j in range(4):\\n    mat.append(matrix(lattice=lat, num=-4, rabi=1/2, int=int[j]**6))\\n\\nfig, ax = plt.subplots(nrows=2, ncols=2, dpi=200, figsize=(8,5))\\n\\nfor i,j in product([0,1],[0,1]):\\n    density = [np.sum([mat[2*i+j].gs[k]**2 * mat[2*i+j].basis[k][0,x] for k in range(len(mat[2*i+j].basis))]) for x in range(mat[2*i+j].sites)]\\n    ax[i,j].plot(density)\\n    ax[i,j].scatter(range(len(density)), density, s=7)\\n    \\n    ax[i,j].set_title(rf'$\\x0crac{{R_b}}{{a}}={int[2*i+j]}$', size=12)\\n    ax[1,j].set_xlabel('Site index', size=9)\\n    ax[i,0].set_ylabel('Excitation density', size=9)\\n    ax[i,j].set_ylim(-0.05, 1.05)\\n\\n# fig.savefig(fname='z_n.png', dpi=200)\\n\""
      ]
     },
     "execution_count": 24,
     "metadata": {},
     "output_type": "execute_result"
    }
   ],
   "source": [
    "# calculate and show the excitation densities of the points marked in the above phase diagram\n",
    "\n",
    "'''\n",
    "L=13\n",
    "lat = lattice(L, legs=1, bc='OBC', constraint=False)\n",
    "mat = []\n",
    "\n",
    "int = [1.5,2.5,3.5,4.5]\n",
    "\n",
    "for j in range(4):\n",
    "    mat.append(matrix(lattice=lat, det=-4, rabi=1/2, int=int[j]**6))\n",
    "\n",
    "fig, ax = plt.subplots(nrows=2, ncols=2, dpi=200, figsize=(8,5))\n",
    "\n",
    "for i,j in product([0,1],[0,1]):\n",
    "    density = [np.sum([mat[2*i+j].gs[k]**2 * mat[2*i+j].basis[k][0,x] for k in range(len(mat[2*i+j].basis))]) for x in range(mat[2*i+j].sites)]\n",
    "    ax[i,j].plot(density)\n",
    "    ax[i,j].scatter(range(len(density)), density, s=7)\n",
    "    \n",
    "    ax[i,j].set_title(rf'$\\frac{{R_b}}{{a}}={int[2*i+j]}$', size=12)\n",
    "    ax[1,j].set_xlabel('Site index', size=9)\n",
    "    ax[i,0].set_ylabel('Excitation density', size=9)\n",
    "    ax[i,j].set_ylim(-0.05, 1.05)\n",
    "\n",
    "# fig.savefig(fname='z_n.png', dpi=200)\n",
    "'''"
   ]
  },
  {
   "cell_type": "code",
   "execution_count": null,
   "metadata": {},
   "outputs": [],
   "source": []
  },
  {
   "cell_type": "code",
   "execution_count": 25,
   "metadata": {},
   "outputs": [
    {
     "data": {
      "text/plain": [
       "\"\\nlat1 = lattice(11, legs=1, bc='OBC', constraint=False)\\nlat2 = lattice(13, legs=1, bc='OBC', constraint=False)\\n\\nmat = []\\nmat.append(matrix(lat1, num=-4, rabi=1/2, int=4.5**6))\\nmat.append(matrix(lat2, num=-4, rabi=1/2, int=5.5**6))\\n\\nfig, ax = plt.subplots(nrows=1, ncols=2, dpi=200, figsize=(8,2.5))\\n\\ntitle = [r'$Z_5$', r'$Z_6$']\\n\\nfor i in range(2):\\n    density = [np.sum([mat[i].gs[k]**2 * mat[i].basis[k][0,x] for k in range(len(mat[i].basis))]) for x in range(mat[i].sites)]\\n    ax[i].plot(density)\\n    ax[i].scatter(range(len(density)), density, s=7)\\n    \\n    ax[i].set_title(title[i], size=12)\\n    ax[1].set_xlabel('Site index', size=9)\\n    ax[i].set_ylabel('Excitation density', size=9)\\n    ax[i].set_ylim(-0.05, 1.05)\\n\\n# fig.savefig(fname='low_det_pbc.png')\\n\""
      ]
     },
     "execution_count": 25,
     "metadata": {},
     "output_type": "execute_result"
    }
   ],
   "source": [
    "# same thing for two points in a different system\n",
    "\n",
    "'''\n",
    "lat1 = lattice(11, legs=1, bc='OBC', constraint=False)\n",
    "lat2 = lattice(13, legs=1, bc='OBC', constraint=False)\n",
    "\n",
    "mat = []\n",
    "mat.append(matrix(lat1, det=-4, rabi=1/2, int=4.5**6))\n",
    "mat.append(matrix(lat2, det=-4, rabi=1/2, int=5.5**6))\n",
    "\n",
    "fig, ax = plt.subplots(nrows=1, ncols=2, dpi=200, figsize=(8,2.5))\n",
    "\n",
    "title = [r'$Z_5$', r'$Z_6$']\n",
    "\n",
    "for i in range(2):\n",
    "    density = [np.sum([mat[i].gs[k]**2 * mat[i].basis[k][0,x] for k in range(len(mat[i].basis))]) for x in range(mat[i].sites)]\n",
    "    ax[i].plot(density)\n",
    "    ax[i].scatter(range(len(density)), density, s=7)\n",
    "    \n",
    "    ax[i].set_title(title[i], size=12)\n",
    "    ax[1].set_xlabel('Site index', size=9)\n",
    "    ax[i].set_ylabel('Excitation density', size=9)\n",
    "    ax[i].set_ylim(-0.05, 1.05)\n",
    "\n",
    "# fig.savefig(fname='low_det_pbc.png')\n",
    "'''"
   ]
  },
  {
   "cell_type": "code",
   "execution_count": 26,
   "metadata": {},
   "outputs": [
    {
     "data": {
      "text/plain": [
       "\"\\nL=21\\nlat = lattice(L, legs=1, bc='OBC', constraint=True)\\nmat = []\\n\\nnum = [-1/2,0,1/2,1]\\ncols = len(num)\\n\\nfor j in range(cols):\\n    mat.append(matrix(lattice=lat, num=-num[j], rabi=1/2))\\n\""
      ]
     },
     "execution_count": 26,
     "metadata": {},
     "output_type": "execute_result"
    }
   ],
   "source": [
    "'''\n",
    "L=21\n",
    "lat = lattice(L, legs=1, bc='OBC', constraint=True)\n",
    "mat = []\n",
    "\n",
    "det = [-1/2,0,1/2,1]\n",
    "cols = len(det)\n",
    "\n",
    "for j in range(cols):\n",
    "    mat.append(matrix(lattice=lat, det=-det[j], rabi=1/2))\n",
    "'''"
   ]
  },
  {
   "cell_type": "code",
   "execution_count": 27,
   "metadata": {},
   "outputs": [
    {
     "data": {
      "text/plain": [
       "\"\\nfig, ax = plt.subplots(nrows=2, ncols=2, dpi=200, figsize=(8,5))\\n\\nfor i,j in product([0,1],[0,1]):\\n    density = [np.sum([mat[2*i+j].gs[k]**2 * mat[2*i+j].basis[k][0,x] for k in range(len(mat[2*i+j].basis))]) for x in range(mat[2*i+j].sites)]\\n    ax[i,j].plot(density)\\n    ax[i,j].scatter(range(len(density)), density, s=7)\\n    \\n    ax[i,j].set_title(rf'$\\\\Delta={num[2*i+j]}$', size=12)\\n    ax[1,j].set_xlabel('Site index', size=9)\\n    ax[i,0].set_ylabel('Excitation density', size=9)\\n    ax[i,j].set_ylim(-0.05, 1.05)\\n\\n    # rabi = [mat[j].gs.T @ lat.r_rabi[0,x] @ mat[j].gs for x in range(mat[j].sites)]\\n    # ax[1,j].plot(rabi)\\n    # ax[1,j].scatter(range(len(rabi)), rabi, s=7)\\n    # ax[1,j].set_ylim(-0.55, 0.05)\\n\\n# ax[1].set_ylim(-0.05, .55)\\n# ax[2].set_ylim(-0.05, .55)\\n\\n\\n# ax[0].set_yticks([0,0.1,0.2,0.3,0.4,0.5], labels=[0,0.1,0.2,0.3,0.4,0.5])\\n# ax[0].set_xticks(np.arange(0, L, int(np.round(L/5))), labels=np.arange(0, L, int(np.round(L/5))))\\n# ax[1].set_xticks(np.arange(0, L, int(np.round(L/5))), labels=np.arange(0, L, int(np.round(L/5))))\\n# ax[2].set_xticks(np.arange(0, L, int(np.round(L/5))), labels=np.arange(0, L, int(np.round(L/5))))\\n\\n# fig.suptitle('Test')\\n\\n\\n# fig.savefig(fname='z_n.png', dpi=200)\\n\""
      ]
     },
     "execution_count": 27,
     "metadata": {},
     "output_type": "execute_result"
    }
   ],
   "source": [
    "'''\n",
    "fig, ax = plt.subplots(nrows=2, ncols=2, dpi=200, figsize=(8,5))\n",
    "\n",
    "for i,j in product([0,1],[0,1]):\n",
    "    density = [np.sum([mat[2*i+j].gs[k]**2 * mat[2*i+j].basis[k][0,x] for k in range(len(mat[2*i+j].basis))]) for x in range(mat[2*i+j].sites)]\n",
    "    ax[i,j].plot(density)\n",
    "    ax[i,j].scatter(range(len(density)), density, s=7)\n",
    "    \n",
    "    ax[i,j].set_title(rf'$\\Delta={det[2*i+j]}$', size=12)\n",
    "    ax[1,j].set_xlabel('Site index', size=9)\n",
    "    ax[i,0].set_ylabel('Excitation density', size=9)\n",
    "    ax[i,j].set_ylim(-0.05, 1.05)\n",
    "\n",
    "    # rabi = [mat[j].gs.T @ lat.r_rabi[0,x] @ mat[j].gs for x in range(mat[j].sites)]\n",
    "    # ax[1,j].plot(rabi)\n",
    "    # ax[1,j].scatter(range(len(rabi)), rabi, s=7)\n",
    "    # ax[1,j].set_ylim(-0.55, 0.05)\n",
    "\n",
    "# ax[1].set_ylim(-0.05, .55)\n",
    "# ax[2].set_ylim(-0.05, .55)\n",
    "\n",
    "\n",
    "# ax[0].set_yticks([0,0.1,0.2,0.3,0.4,0.5], labels=[0,0.1,0.2,0.3,0.4,0.5])\n",
    "# ax[0].set_xticks(np.arange(0, L, int(np.round(L/5))), labels=np.arange(0, L, int(np.round(L/5))))\n",
    "# ax[1].set_xticks(np.arange(0, L, int(np.round(L/5))), labels=np.arange(0, L, int(np.round(L/5))))\n",
    "# ax[2].set_xticks(np.arange(0, L, int(np.round(L/5))), labels=np.arange(0, L, int(np.round(L/5))))\n",
    "\n",
    "# fig.suptitle('Test')\n",
    "\n",
    "\n",
    "# fig.savefig(fname='z_n.png', dpi=200)\n",
    "'''"
   ]
  },
  {
   "cell_type": "code",
   "execution_count": 28,
   "metadata": {},
   "outputs": [
    {
     "data": {
      "text/plain": [
       "\"\\nL=21\\nlat = lattice(L, legs=1, bc='PBC', constraint=True)\\nmat = []\\n\\nnum = [0,1/2]\\ncols = len(num)\\n\\nfor j in range(cols):\\n    mat.append(matrix(lattice=lat, num=-num[j], rabi=1/2))\\n\""
      ]
     },
     "execution_count": 28,
     "metadata": {},
     "output_type": "execute_result"
    }
   ],
   "source": [
    "'''\n",
    "L=21\n",
    "lat = lattice(L, legs=1, bc='PBC', constraint=True)\n",
    "mat = []\n",
    "\n",
    "det = [0,1/2]\n",
    "cols = len(det)\n",
    "\n",
    "for j in range(cols):\n",
    "    mat.append(matrix(lattice=lat, det=-det[j], rabi=1/2))\n",
    "'''"
   ]
  },
  {
   "cell_type": "code",
   "execution_count": 29,
   "metadata": {},
   "outputs": [
    {
     "data": {
      "text/plain": [
       "\"\\nfig, ax = plt.subplots(nrows=1, ncols=2, dpi=200, figsize=(8,2.5))\\n\\nfor i in range(2):\\n    density = [np.sum([mat[i].gs[k]**2 * mat[i].basis[k][0,x] for k in range(len(mat[i].basis))]) for x in range(mat[i].sites)]\\n    ax[i].plot(density)\\n    ax[i].scatter(range(len(density)), density, s=7)\\n    \\n    ax[i].set_title(rf'$\\\\Delta={num[i]}$', size=12)\\n    ax[1].set_xlabel('Site index', size=9)\\n    ax[i].set_ylabel('Excitation density', size=9)\\n    ax[i].set_ylim(-0.05, 1.05)\\n\\n# fig.savefig(fname='low_det_pbc.png')\\n\""
      ]
     },
     "execution_count": 29,
     "metadata": {},
     "output_type": "execute_result"
    }
   ],
   "source": [
    "'''\n",
    "fig, ax = plt.subplots(nrows=1, ncols=2, dpi=200, figsize=(8,2.5))\n",
    "\n",
    "for i in range(2):\n",
    "    density = [np.sum([mat[i].gs[k]**2 * mat[i].basis[k][0,x] for k in range(len(mat[i].basis))]) for x in range(mat[i].sites)]\n",
    "    ax[i].plot(density)\n",
    "    ax[i].scatter(range(len(density)), density, s=7)\n",
    "    \n",
    "    ax[i].set_title(rf'$\\Delta={det[i]}$', size=12)\n",
    "    ax[1].set_xlabel('Site index', size=9)\n",
    "    ax[i].set_ylabel('Excitation density', size=9)\n",
    "    ax[i].set_ylim(-0.05, 1.05)\n",
    "\n",
    "# fig.savefig(fname='low_det_pbc.png')\n",
    "'''"
   ]
  },
  {
   "cell_type": "code",
   "execution_count": 30,
   "metadata": {},
   "outputs": [
    {
     "data": {
      "text/plain": [
       "\"\\nL=21\\nlat = lattice(L, legs=1, bc='OBC', constraint=True)\\nmat = []\\n\\nrabi = [1/2, 1/2, 2, 0]\\nhop = [0, 1, 1, 1]\\n\\nfor j in range(4):\\n    mat.append(matrix(lattice=lat, rabi=rabi[j], hop=hop[j]))\\n\""
      ]
     },
     "execution_count": 30,
     "metadata": {},
     "output_type": "execute_result"
    }
   ],
   "source": [
    "'''\n",
    "L=21\n",
    "lat = lattice(L, legs=1, bc='OBC', constraint=True)\n",
    "mat = []\n",
    "\n",
    "rabi = [1/2, 1/2, 2, 0]\n",
    "hop = [0, 1, 1, 1]\n",
    "\n",
    "for j in range(4):\n",
    "    mat.append(matrix(lattice=lat, rabi=rabi[j], hop=hop[j]))\n",
    "'''"
   ]
  },
  {
   "cell_type": "code",
   "execution_count": 31,
   "metadata": {},
   "outputs": [
    {
     "data": {
      "text/plain": [
       "\"\\nfig, ax = plt.subplots(nrows=2, ncols=2, dpi=200, figsize=(8,5))\\n\\ntitle = [r'$\\\\Omega\\\\gg t$', r'$\\\\Omega=t$', r'$\\\\Omega=4t$', r'$\\\\Omega\\\\ll t$']\\n\\nfor i,j in product([0,1],[0,1]):\\n    density = [np.sum([mat[2*i+j].gs[k]**2 * mat[2*i+j].basis[k][0,x] for k in range(len(mat[2*i+j].basis))]) for x in range(mat[2*i+j].sites)]\\n    ax[i,j].plot(density)\\n    ax[i,j].scatter(range(len(density)), density, s=7)\\n    \\n    ax[i,j].set_title(title[2*i+j])\\n    ax[1,j].set_xlabel('Site index', size=9)\\n    ax[i,0].set_ylabel('Excitation density', size=9)\\n    ax[i,j].set_ylim(-0.05, .55)\\n\\nfig.savefig(fname='zigzag.png', dpi=200)\\n\""
      ]
     },
     "execution_count": 31,
     "metadata": {},
     "output_type": "execute_result"
    }
   ],
   "source": [
    "'''\n",
    "fig, ax = plt.subplots(nrows=2, ncols=2, dpi=200, figsize=(8,5))\n",
    "\n",
    "title = [r'$\\Omega\\gg t$', r'$\\Omega=t$', r'$\\Omega=4t$', r'$\\Omega\\ll t$']\n",
    "\n",
    "for i,j in product([0,1],[0,1]):\n",
    "    density = [np.sum([mat[2*i+j].gs[k]**2 * mat[2*i+j].basis[k][0,x] for k in range(len(mat[2*i+j].basis))]) for x in range(mat[2*i+j].sites)]\n",
    "    ax[i,j].plot(density)\n",
    "    ax[i,j].scatter(range(len(density)), density, s=7)\n",
    "    \n",
    "    ax[i,j].set_title(title[2*i+j])\n",
    "    ax[1,j].set_xlabel('Site index', size=9)\n",
    "    ax[i,0].set_ylabel('Excitation density', size=9)\n",
    "    ax[i,j].set_ylim(-0.05, .55)\n",
    "\n",
    "fig.savefig(fname='zigzag.png', dpi=200)\n",
    "'''"
   ]
  },
  {
   "cell_type": "code",
   "execution_count": 32,
   "metadata": {},
   "outputs": [
    {
     "data": {
      "text/plain": [
       "\"\\nL = 5\\nlat2 = lattice(L)\\n\\nfig, ax = plt.subplots(nrows=1, ncols=1, dpi=200, figsize=(10/3, 2))\\n\\nmat = matrix(lattice=lat2, hop=1/2, int=0)\\ndensity = [np.sum([mat.gs[k]**2 * mat.basis[k][0,x] for k in range(len(mat.basis))]) for x in range(mat.sites)]\\nax.plot(np.array(density))\\nax.scatter(range(len(density)), np.array(density), s=7)\\n\\nax.set_title(r'$\\\\Omega=1$', size=12)\\n# ax[1].set_title(r'$\\\\Omega = 4t$', size=12)\\n# ax[2].set_title(r'$\\\\Omega \\\\ll t$', size=12)\\n# ax.set_ylim(-0.05, .55)\\n# ax[1].set_ylim(-0.05, .55)\\n# ax[2].set_ylim(-0.05, .55)\\n\\nax.set_xlabel('Site index', size=9)\\n# ax[1].set_xlabel('Site index', size=9)\\n# ax[2].set_xlabel('Site index', size=9)\\n\\n# ax.set_xticks(np.arange(0, L, int(np.round(L/5))), labels=np.arange(0, L, int(np.round(L/5))))\\n\\n# fig.suptitle('Test')\\nax.set_ylabel('Excitation density', size=9)\\n\""
      ]
     },
     "execution_count": 32,
     "metadata": {},
     "output_type": "execute_result"
    }
   ],
   "source": [
    "'''\n",
    "L = 5\n",
    "lat2 = lattice(L)\n",
    "\n",
    "fig, ax = plt.subplots(nrows=1, ncols=1, dpi=200, figsize=(10/3, 2))\n",
    "\n",
    "mat = matrix(lattice=lat2, hop=1/2, int=0)\n",
    "density = [np.sum([mat.gs[k]**2 * mat.basis[k][0,x] for k in range(len(mat.basis))]) for x in range(mat.sites)]\n",
    "ax.plot(np.array(density))\n",
    "ax.scatter(range(len(density)), np.array(density), s=7)\n",
    "\n",
    "ax.set_title(r'$\\Omega=1$', size=12)\n",
    "# ax[1].set_title(r'$\\Omega = 4t$', size=12)\n",
    "# ax[2].set_title(r'$\\Omega \\ll t$', size=12)\n",
    "# ax.set_ylim(-0.05, .55)\n",
    "# ax[1].set_ylim(-0.05, .55)\n",
    "# ax[2].set_ylim(-0.05, .55)\n",
    "\n",
    "ax.set_xlabel('Site index', size=9)\n",
    "# ax[1].set_xlabel('Site index', size=9)\n",
    "# ax[2].set_xlabel('Site index', size=9)\n",
    "\n",
    "# ax.set_xticks(np.arange(0, L, int(np.round(L/5))), labels=np.arange(0, L, int(np.round(L/5))))\n",
    "\n",
    "# fig.suptitle('Test')\n",
    "ax.set_ylabel('Excitation density', size=9)\n",
    "'''"
   ]
  },
  {
   "cell_type": "code",
   "execution_count": 33,
   "metadata": {},
   "outputs": [
    {
     "data": {
      "text/plain": [
       "\"\\nlat = lattice(15)\\n\\nfig, ax = plt.subplots(nrows=1, ncols=1, dpi=200, figsize=(10/3, 2))\\n\\nmat = matrix(lattice=lat, num=-1/2,rabi=1/2)\\ndensity = [np.sum([mat.gs[k]**2 * mat.basis[k][0,x] for k in range(len(mat.basis))]) for x in range(mat.sites)]\\nax.plot(density)\\nax.scatter(range(len(density)), density, s=7)\\n\\nax.set_title(r'$\\\\Omega=1$', size=12)\\nax.set_ylim(-0.05, 1.05)\\n\\nax.set_xlabel('Site index', size=9)\\nax.set_ylabel('Excitation density', size=9)\\n\""
      ]
     },
     "execution_count": 33,
     "metadata": {},
     "output_type": "execute_result"
    }
   ],
   "source": [
    "'''\n",
    "lat = lattice(15)\n",
    "\n",
    "fig, ax = plt.subplots(nrows=1, ncols=1, dpi=200, figsize=(10/3, 2))\n",
    "\n",
    "mat = matrix(lattice=lat, det=-1/2,rabi=1/2)\n",
    "density = [np.sum([mat.gs[k]**2 * mat.basis[k][0,x] for k in range(len(mat.basis))]) for x in range(mat.sites)]\n",
    "ax.plot(density)\n",
    "ax.scatter(range(len(density)), density, s=7)\n",
    "\n",
    "ax.set_title(r'$\\Omega=1$', size=12)\n",
    "ax.set_ylim(-0.05, 1.05)\n",
    "\n",
    "ax.set_xlabel('Site index', size=9)\n",
    "ax.set_ylabel('Excitation density', size=9)\n",
    "'''"
   ]
  }
 ],
 "metadata": {
  "kernelspec": {
   "display_name": "Python 3 (ipykernel)",
   "language": "python",
   "name": "python3"
  },
  "language_info": {
   "codemirror_mode": {
    "name": "ipython",
    "version": 3
   },
   "file_extension": ".py",
   "mimetype": "text/x-python",
   "name": "python",
   "nbconvert_exporter": "python",
   "pygments_lexer": "ipython3",
   "version": "3.11.5"
  }
 },
 "nbformat": 4,
 "nbformat_minor": 4
}
